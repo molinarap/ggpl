{
 "cells": [
  {
   "cell_type": "code",
   "execution_count": 1,
   "metadata": {
    "collapsed": false
   },
   "outputs": [
    {
     "name": "stdout",
     "output_type": "stream",
     "text": [
      "Evaluating fenvs.py..\n",
      "...fenvs.py imported in 0.005185 seconds\n"
     ]
    }
   ],
   "source": [
    "\"\"\" workshop 11 \"\"\"\n",
    "from pyplasm import *\n",
    "import numpy as np\n",
    "import sys, os"
   ]
  },
  {
   "cell_type": "code",
   "execution_count": 2,
   "metadata": {
    "collapsed": true
   },
   "outputs": [],
   "source": [
    "\"\"\"importo workshop_10 per costuire la casa\"\"\"\n",
    "sys.path.append(\"house\")\n",
    "import house"
   ]
  },
  {
   "cell_type": "code",
   "execution_count": 3,
   "metadata": {
    "collapsed": true
   },
   "outputs": [],
   "source": [
    "\"\"\"texture vari livelli della casa\"\"\"\n",
    "grassTexture = \"texture/grass.jpg\"\n",
    "asphaltTexture = \"texture/asphalt.jpg\"\n",
    "landingTexture = \"texture/landing.jpg\""
   ]
  },
  {
   "cell_type": "code",
   "execution_count": 4,
   "metadata": {
    "collapsed": true
   },
   "outputs": [],
   "source": [
    "\"\"\"struttra iniziale di appoggio\"\"\"\n",
    "zero = CUBOID([.0,.0,.0])\n",
    "initStruct = STRUCT([zero])"
   ]
  },
  {
   "cell_type": "code",
   "execution_count": 5,
   "metadata": {
    "collapsed": true
   },
   "outputs": [],
   "source": [
    "\"\"\"funzione che conta i file contenuti in una directory\"\"\"\n",
    "def countFileDirectory(path):\n",
    "  i = 0\n",
    "  for name in os.listdir(path):\n",
    "      if not name.startswith(\".\"):\n",
    "        i = i + 1\n",
    "  return i"
   ]
  },
  {
   "cell_type": "code",
   "execution_count": 6,
   "metadata": {
    "collapsed": true
   },
   "outputs": [],
   "source": [
    "\"\"\"funzione che legge i file lines di tutti i livelli della casa\"\"\"\n",
    "def readSvg(l,reading_level,path):\n",
    "  file = open(\"params/\"+path+\"/lines/level-\"+str(l)+\".lines\",\"r\")\n",
    "  data = file.read()\n",
    "  n = countFileDirectory(\"params/\"+path+\"/lines/\")\n",
    "  file.close()\n",
    "  d = data.splitlines()\n",
    "  reading_level = reading_level + [d]\n",
    "  if l!=n-1:\n",
    "    return readSvg(l+1,reading_level,path)\n",
    "  else:\n",
    "    return reading_level\n",
    "\n",
    "levelBase = readSvg(0,[],\"base\")\n",
    "levelStreet = readSvg(0,[],\"street\")\n",
    "levelFoundation = readSvg(0,[],\"foundation\")\n",
    "levelLanding = readSvg(0,[],\"landing\")\n",
    "levelCurve = readSvg(0,[],\"curve\")"
   ]
  },
  {
   "cell_type": "code",
   "execution_count": 7,
   "metadata": {
    "collapsed": true
   },
   "outputs": [],
   "source": [
    "\"\"\"funzioni che trasforma le stringhe di punto dei file lines in array\"\"\"\n",
    "def parseLines(l,i, params):\n",
    "  string_line = params[l][i]\n",
    "  split_line = string_line.split(\",\")\n",
    "  array_line = np.array(split_line, dtype=float)\n",
    "  return array_line"
   ]
  },
  {
   "cell_type": "code",
   "execution_count": 8,
   "metadata": {
    "collapsed": true
   },
   "outputs": [],
   "source": [
    "\"\"\"funzione che dati i file lines contenuti nell cartella /params/base/lines\"\"\"\n",
    "\"\"\"costuisce la base del quartiere\"\"\"\n",
    "def buildGarden(i,s1):\n",
    "  if i < len(levelBase[0]):\n",
    "    params = parseLines(0,i,levelBase)\n",
    "    a_pol = POLYLINE([[params[0],params[1]],[params[2],params[3]]])\n",
    "    a_off = OFFSET([4.0, 5.5, 5.0])(a_pol)\n",
    "    s2 = STRUCT([a_off, s1])\n",
    "    return buildGarden(i+1,s2)\n",
    "  else:\n",
    "    s1 = SOLIDIFY(SKEL_2(s1))\n",
    "    s1 = TEXTURE([grassTexture, TRUE, FALSE, 1, 1, 0, 16, 16])(s1)\n",
    "    return s1"
   ]
  },
  {
   "cell_type": "code",
   "execution_count": 9,
   "metadata": {
    "collapsed": true
   },
   "outputs": [],
   "source": [
    "\"\"\"funzione che dati i file lines contenuti nell cartella /params/curve/lines\"\"\"\n",
    "\"\"\"costuisce le curve utilizzando Bezier\"\"\"\n",
    "def buildCurve(i,s1):\n",
    "  if i < len(levelCurve[0]):\n",
    "    curveExt1 = parseLines(0,i,levelCurve)\n",
    "    curveExt2 = parseLines(0,i+1,levelCurve)\n",
    "    curveInt1 = parseLines(1,i,levelCurve)\n",
    "    curveInt2 = parseLines(1,i+1,levelCurve)\n",
    "    ce = BEZIER(S1)([[curveExt1[2],curveExt1[3]],[curveExt1[0],curveExt1[1]],[curveExt2[0],curveExt2[1]]])\n",
    "    ci = BEZIER(S1)([[curveInt1[2],curveInt1[3]],[curveInt1[0],curveInt1[1]],[curveInt2[0],curveInt2[1]]])\n",
    "    c = MAP(BEZIER(S2)([ce,ci]))(PROD([INTERVALS(1)(10),INTERVALS(1)(10)]))\n",
    "    c = OFFSET([0.0, 0.0, 3.0])(c)\n",
    "    s1 = STRUCT([s1,c])\n",
    "    return buildCurve(i+2,s1)\n",
    "  else:\n",
    "    return s1"
   ]
  },
  {
   "cell_type": "code",
   "execution_count": 10,
   "metadata": {
    "collapsed": true
   },
   "outputs": [],
   "source": [
    "\"\"\"funzione che dati i file lines contenuti nell cartella /params/street/lines\"\"\"\n",
    "\"\"\"costuisce le strade del quartiere\"\"\"\n",
    "def buildStreet(i,s1):\n",
    "  if i < len(levelStreet[0]):\n",
    "    params = parseLines(0,i,levelStreet)\n",
    "    a_pol = POLYLINE([[params[0],params[1]],[params[2],params[3]]])\n",
    "    a_off = OFFSET([0.0, 0.0, 3.0])(a_pol)\n",
    "    s2 = STRUCT([a_off, s1])\n",
    "    return buildStreet(i+1,s2)\n",
    "  else:\n",
    "    curve = buildCurve(0,initStruct)\n",
    "    s1 = SOLIDIFY(s1)\n",
    "    s1 = STRUCT([s1,curve])\n",
    "    s1 = STRUCT([T(3)(5.0),s1])\n",
    "    s1 = TEXTURE([asphaltTexture, TRUE, FALSE, 1, 1, 0, 16, 16])(s1)\n",
    "    return s1"
   ]
  },
  {
   "cell_type": "code",
   "execution_count": 11,
   "metadata": {
    "collapsed": true
   },
   "outputs": [],
   "source": [
    "\"\"\"funzione che dati i file lines contenuti nell cartella /params/landing/lines\"\"\"\n",
    "\"\"\"costuisce i pianerottoli che si affacciano sulla strada\"\"\"\n",
    "def buildLanding(i,s1):\n",
    "  if i < len(levelLanding[0]):\n",
    "    params = parseLines(0,i,levelLanding)\n",
    "    a_pol = POLYLINE([[params[0],params[1]],[params[2],params[3]]])\n",
    "    a_off = OFFSET([0.0, 0.0, 3.0])(a_pol)\n",
    "    s2 = STRUCT([a_off, s1])\n",
    "    return buildLanding(i+1,s2)\n",
    "  else:\n",
    "    s1 = SOLIDIFY(SKEL_2(s1))\n",
    "    s1=STRUCT([T(3)(5.0),s1])\n",
    "    s1 = TEXTURE([landingTexture, TRUE, FALSE, 1, 1, 0, 1, 10])(s1)\n",
    "    return s1"
   ]
  },
  {
   "cell_type": "code",
   "execution_count": 12,
   "metadata": {
    "collapsed": true
   },
   "outputs": [],
   "source": [
    "\"\"\"funzione che dati i file lines contenuti nell cartella /params/house/lines\"\"\"\n",
    "\"\"\"costuisce le fondamenta per poi posizionare le case\"\"\"\n",
    "def buildFoundation(i,s1):\n",
    "  if i < len(levelFoundation[0]):\n",
    "    params = parseLines(0,i,levelFoundation)\n",
    "    a_pol = POLYLINE([[params[0],params[1]],[params[2],params[3]]])\n",
    "    a_off = OFFSET([0.0, 0.0, 3.0])(a_pol)\n",
    "    s1 = STRUCT([a_off, s1])\n",
    "    return buildFoundation(i+1,s1)\n",
    "  else:\n",
    "    s1 = SOLIDIFY(SKEL_2(s1))\n",
    "    s1 = TEXTURE([landingTexture, TRUE, FALSE, 1, 1, 0, 1, 10])(s1)\n",
    "    return s1"
   ]
  },
  {
   "cell_type": "code",
   "execution_count": 13,
   "metadata": {
    "collapsed": true
   },
   "outputs": [],
   "source": [
    "\"\"\"funzione che dati i file lines contenuti nell cartella /params/house/lines\"\"\"\n",
    "\"\"\"richiama il workshop_10 per costruire le case sulle fondamenta creare prima\"\"\"\n",
    "def buildHouse(i,s1):\n",
    "  if i < len(levelFoundation[0]):\n",
    "    params = parseLines(0,i,levelFoundation)\n",
    "    h2 = house.createMoreHouse(0,initStruct,0.0)\n",
    "    if i==7 or i==15 or i==23:\n",
    "      h2 = ROTATE([1,2])(-PI/2)(h2)\n",
    "      h2 = STRUCT([T([1,2,3])([params[2]-10.0,params[3]+111.0,2.0]),h2])\n",
    "    else:\n",
    "      h2 = ROTATE([1,2])(PI/2)(h2)\n",
    "      h2 = STRUCT([T([1,2,3])([params[0]+10.0,params[1]-111.0,2.0]),h2])\n",
    "    s1 = STRUCT([h2, s1])\n",
    "    return buildHouse(i+4,s1)\n",
    "  else:\n",
    "    return s1"
   ]
  },
  {
   "cell_type": "code",
   "execution_count": 14,
   "metadata": {
    "collapsed": true
   },
   "outputs": [],
   "source": [
    "\n",
    "\"\"\"funzione che crea un quartiere assemblando tutti i livelli creati in precedenza\"\"\"\n",
    "def buildDistrict():\n",
    "  garden_level = buildGarden(0,initStruct)\n",
    "  street_level = buildStreet(0,initStruct)\n",
    "  house_level = buildFoundation(0,initStruct)\n",
    "  house_level2 = buildHouse(3,initStruct)\n",
    "  streetHouse_level = buildLanding(0,initStruct)\n",
    "  house=STRUCT([initStruct,T(3)(0.0),garden_level])\n",
    "  house=STRUCT([house,T(3)(2.0),street_level])\n",
    "  house=STRUCT([house,T(3)(2.0),house_level])\n",
    "  house=STRUCT([house,T(3)(2.0),house_level2])\n",
    "  house=STRUCT([house,T(3)(2.0),streetHouse_level])\n",
    "  return house"
   ]
  },
  {
   "cell_type": "code",
   "execution_count": 15,
   "metadata": {
    "collapsed": true
   },
   "outputs": [],
   "source": [
    "\"\"\"funzione che crea una citta assemblando piu' quartieri insieme\"\"\"\n",
    "def createCity(i,s1,d1,d2):\n",
    "  if i < 1:\n",
    "    h = buildDistrict()\n",
    "    h1=STRUCT([T(1)(d1),h])\n",
    "    h2=STRUCT([T(1)(d1+1900),h])\n",
    "    h3=STRUCT([T(2)(d2+2500),h])\n",
    "    h4=STRUCT([T([1,2])([d1+1900,d2+2500]),h])\n",
    "    s1= STRUCT([h1,h2,h3,h4,s1])\n",
    "    s2=STRUCT([T(1)((d1+1900)*2),s1])\n",
    "    s1= STRUCT([s1,s2])\n",
    "    return createCity(i+1,s1,d1+1900.0,d2+2500)\n",
    "  else:\n",
    "    VIEW(s1)"
   ]
  },
  {
   "cell_type": "code",
   "execution_count": 16,
   "metadata": {
    "collapsed": true
   },
   "outputs": [],
   "source": [
    "createCity(0,initStruct,0.0,0.0)"
   ]
  },
  {
   "cell_type": "code",
   "execution_count": null,
   "metadata": {
    "collapsed": true
   },
   "outputs": [],
   "source": []
  }
 ],
 "metadata": {
  "anaconda-cloud": {},
  "kernelspec": {
   "display_name": "Python [conda root]",
   "language": "python",
   "name": "conda-root-py"
  },
  "language_info": {
   "codemirror_mode": {
    "name": "ipython",
    "version": 2
   },
   "file_extension": ".py",
   "mimetype": "text/x-python",
   "name": "python",
   "nbconvert_exporter": "python",
   "pygments_lexer": "ipython2",
   "version": "2.7.12"
  }
 },
 "nbformat": 4,
 "nbformat_minor": 1
}
