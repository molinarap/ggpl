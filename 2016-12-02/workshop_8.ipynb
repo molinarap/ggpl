{
 "cells": [
  {
   "cell_type": "code",
   "execution_count": 1,
   "metadata": {
    "collapsed": false
   },
   "outputs": [
    {
     "data": {
      "text/plain": [
       "' workshop 08 '"
      ]
     },
     "execution_count": 1,
     "metadata": {},
     "output_type": "execute_result"
    }
   ],
   "source": [
    "\"\"\" workshop 08 \"\"\"\n"
   ]
  },
  {
   "cell_type": "code",
   "execution_count": 2,
   "metadata": {
    "collapsed": false
   },
   "outputs": [
    {
     "name": "stdout",
     "output_type": "stream",
     "text": [
      "Evaluating fenvs.py..\n",
      "...fenvs.py imported in 0.005366 seconds\n"
     ]
    }
   ],
   "source": [
    "from pyplasm import *\n",
    "import numpy as np"
   ]
  },
  {
   "cell_type": "code",
   "execution_count": 9,
   "metadata": {
    "collapsed": true
   },
   "outputs": [],
   "source": [
    "\"\"\" struttura iniziale \"\"\"\n",
    "zero = CUBOID([.0,.0,.0])\n",
    "initStruct = STRUCT([zero])"
   ]
  },
  {
   "cell_type": "code",
   "execution_count": 3,
   "metadata": {
    "collapsed": true
   },
   "outputs": [],
   "source": [
    "\"\"\" texture \"\"\"\n",
    "bricksTexture = \"texture/bricks.jpg\"\n",
    "wallTexture = \"texture/wall.jpg\""
   ]
  },
  {
   "cell_type": "code",
   "execution_count": 4,
   "metadata": {
    "collapsed": true
   },
   "outputs": [],
   "source": [
    "\"\"\" funzione che legge file .lines per estrarre i punti \"\"\"\n",
    "def readFile(l):\n",
    "\tfile = open(\"lines/level-\"+str(l)+\".lines\",\"r\")\n",
    "\tdata = file.read()\n",
    "\tfile.close()\n",
    "\treturn data.splitlines()"
   ]
  },
  {
   "cell_type": "code",
   "execution_count": 5,
   "metadata": {
    "collapsed": true
   },
   "outputs": [],
   "source": [
    "\"\"\" contorno della piantina \"\"\"\n",
    "level1 = readFile(1)\n",
    "\"\"\" piantina con porte \"\"\"\n",
    "level2 = readFile(2)\n",
    "\"\"\" piantina con le finestre e le porte \"\"\"\n",
    "level3 = readFile(3)\n",
    "\"\"\" piantina con stipiti delle porte \"\"\"\n",
    "level4 = readFile(4)\n",
    "\n",
    "\"\"\" inserisco tutto in un array che andro' a scorrere per costruire un piano sull'altro\"\"\"\n",
    "level = [level1,level2,level3,level4,level1]"
   ]
  },
  {
   "cell_type": "code",
   "execution_count": 6,
   "metadata": {
    "collapsed": true
   },
   "outputs": [],
   "source": [
    "\"\"\" altezza di ogni piano \"\"\"\n",
    "level_height = [0.0,30.0,30.0,20.0,0.0]\t\t"
   ]
  },
  {
   "cell_type": "code",
   "execution_count": 7,
   "metadata": {
    "collapsed": true
   },
   "outputs": [],
   "source": [
    "\"\"\" funzione che legge i punti e costruisce tutti livelli della piantina \"\"\"\n",
    "def createHouse(l,i,h,s1):\n",
    "\t# ciclo i livelli\n",
    "\tif l <= len(level)-1:\n",
    "\t\t# ciclo i punti di ongni muro di un piano\n",
    "\t\tif i < len(level[l])-1:\n",
    "\t\t\t# prendo i punti di un muro\n",
    "\t\t\ta = level[l][i]\n",
    "\t\t\t# li inserisco in un array splittando la virgola\n",
    "\t\t\ta_split = a.split(\",\")\n",
    "\t\t\t# trasformo ogni elemento dell'array da string a float\n",
    "\t\t\ta_number = np.array(a_split, dtype=float)\n",
    "\t\t\t# creo il muro(1D) unendo i punti estratti dal lines nella sua posizione\n",
    "\t\t\t# a_number[0] --> x1\n",
    "\t\t\t# a_number[1] --> y1\n",
    "\t\t\t# a_number[2] --> x2\n",
    "\t\t\t# a_number[3] --> y2\n",
    "\t\t\t# [a_number[0],a_number[1]] --> x1,y1\n",
    "\t\t\t# [a_number[0],a_number[3]] --> x1,y2\n",
    "\t\t\t# [a_number[2],a_number[1]] --> x2,y1\n",
    "\t\t\t# [a_number[2],a_number[3]] --> x2,y1\n",
    "\t\t\ta_pol = MKPOL([[[a_number[0],a_number[1],0.0],[a_number[0],a_number[3],0.0],[a_number[2],a_number[1],0.0],[a_number[2],a_number[3],0.0]],[[1,2,3,4]],[1]])\n",
    "\t\t\t# do al muro l'altezza riferita al piano che sto creando\n",
    "\t\t\ta_off = OFFSET([1.5, 1.5, level_height[l]])(a_pol)\n",
    "\t\t\t# gli incollo una texture\n",
    "\t\t\ta_texture = TEXTURE([wallTexture, TRUE, FALSE, 1, 1, 0, 6, 1])(a_off)\n",
    "\t\t\t# traslo il piano per farlo posizionare sopra il piano precedente tramite h\n",
    "\t\t\ta_tras = STRUCT([T(3)(h), a_texture])\n",
    "\t\t\ts2 = STRUCT([a_tras, s1])\n",
    "\t\t\t# rieseguo la funzione per creare un nuovo muro\n",
    "\t\t\treturn createHouse(l,i+1,h,s2)\n",
    "\t\telse:\n",
    "\t\t\t#calcolo l'altezza complessiva per posizionare il nuovo piano\n",
    "\t\t\th = h + level_height[l]\n",
    "\t\t\t# rieseguo la funzione per creare un nuovo piano\n",
    "\t\t\treturn createHouse(l+1,0,h,s1)\n",
    "\telse:\n",
    "\t\tVIEW(s1)"
   ]
  },
  {
   "cell_type": "code",
   "execution_count": 11,
   "metadata": {
    "collapsed": false
   },
   "outputs": [],
   "source": [
    "createHouse(0,0,0.0,initStruct)"
   ]
  }
 ],
 "metadata": {
  "anaconda-cloud": {},
  "kernelspec": {
   "display_name": "Python [conda root]",
   "language": "python",
   "name": "conda-root-py"
  },
  "language_info": {
   "codemirror_mode": {
    "name": "ipython",
    "version": 2
   },
   "file_extension": ".py",
   "mimetype": "text/x-python",
   "name": "python",
   "nbconvert_exporter": "python",
   "pygments_lexer": "ipython2",
   "version": "2.7.12"
  }
 },
 "nbformat": 4,
 "nbformat_minor": 1
}
