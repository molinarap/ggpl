{
 "cells": [
  {
   "cell_type": "code",
   "execution_count": 1,
   "metadata": {
    "collapsed": false
   },
   "outputs": [
    {
     "data": {
      "text/plain": [
       "' WORKSHOP 04 '"
      ]
     },
     "execution_count": 1,
     "metadata": {},
     "output_type": "execute_result"
    }
   ],
   "source": [
    "\"\"\" WORKSHOP 04 \"\"\""
   ]
  },
  {
   "cell_type": "code",
   "execution_count": 2,
   "metadata": {
    "collapsed": false
   },
   "outputs": [
    {
     "name": "stdout",
     "output_type": "stream",
     "text": [
      "Evaluating fenvs.py..\n",
      "...fenvs.py imported in 0.004868 seconds\n"
     ]
    }
   ],
   "source": [
    "from pyplasm import *\n",
    "\n"
   ]
  },
  {
   "cell_type": "code",
   "execution_count": 3,
   "metadata": {
    "collapsed": true
   },
   "outputs": [],
   "source": [
    "roofTexture = \"texture/roof.jpg\"\n",
    "pavTexture = \"texture/pav.jpg\""
   ]
  },
  {
   "cell_type": "code",
   "execution_count": 4,
   "metadata": {
    "collapsed": true
   },
   "outputs": [],
   "source": [
    "par = 0.2\n"
   ]
  },
  {
   "cell_type": "code",
   "execution_count": 5,
   "metadata": {
    "collapsed": true
   },
   "outputs": [],
   "source": [
    "x = [\n",
    "  1.0,  #0\n",
    "  3.0,  #1\n",
    "  9.0,  #2\n",
    "  10.0, #3\n",
    "  12.0, #4\n",
    "  14.0, #5\n",
    "  16.0, #6\n",
    "  22.0, #7\n",
    "  24.0, #8\n",
    "  11.0  #9\n",
    "]"
   ]
  },
  {
   "cell_type": "code",
   "execution_count": 6,
   "metadata": {
    "collapsed": true
   },
   "outputs": [],
   "source": [
    "y = [\n",
    "  2.0,  #0\n",
    "  3.0,  #1\n",
    "  4.0,  #2\n",
    "  6.0,  #3\n",
    "  7.0,  #4\n",
    "  9.0,  #5\n",
    "  10.0, #6\n",
    "  12.0, #7\n",
    "  13.0, #8\n",
    "  16.0, #9\n",
    "  14.0  #10\n",
    "]"
   ]
  },
  {
   "cell_type": "code",
   "execution_count": 7,
   "metadata": {
    "collapsed": true
   },
   "outputs": [],
   "source": [
    "z = [\n",
    "  0.0,  #0\n",
    "  2.0   #1\n",
    "]"
   ]
  },
  {
   "cell_type": "code",
   "execution_count": 8,
   "metadata": {
    "collapsed": true
   },
   "outputs": [],
   "source": [
    "vertsStruct = [\n",
    "  [x[0],y[1],z[0]], #1 ---> esterni\n",
    "  [x[0],y[7],z[0]], #2\n",
    "  [x[2],y[7],z[0]], #3\n",
    "  [x[2],y[9],z[0]], #4\n",
    "  [x[8],y[9],z[0]], #5\n",
    "  [x[8],y[0],z[0]], #6\n",
    "  [x[5],y[0],z[0]], #7\n",
    "  [x[5],y[4],z[0]], #8\n",
    "  [x[1],y[3],z[1]], #9 ---> interni\n",
    "  [x[1],y[6],z[1]], #10\n",
    "  [x[9],y[6],z[1]], #11\n",
    "  [x[9],y[10],z[1]], #12\n",
    "  [x[7],y[10],z[1]], #13\n",
    "  [x[7],y[2],z[1]], #14\n",
    "  [x[6],y[2],z[1]], #15\n",
    "  [x[6],y[6],z[1]], #16\n",
    "]"
   ]
  },
  {
   "cell_type": "code",
   "execution_count": 9,
   "metadata": {
    "collapsed": true
   },
   "outputs": [],
   "source": [
    "cellsStruct = [\n",
    "  [1,2,10,9],\n",
    "  [2,3,11,10],\n",
    "  [3,4,12,11],\n",
    "  [4,5,13,12],\n",
    "  [5,6,14,13],\n",
    "  [6,7,15,14],\n",
    "  [7,8,16,15],\n",
    "  [8,9,1 ,16]\n",
    "]"
   ]
  },
  {
   "cell_type": "code",
   "execution_count": 10,
   "metadata": {
    "collapsed": true
   },
   "outputs": [],
   "source": [
    "cellsStructBorder = [\n",
    "  [1,2],\n",
    "  [2,3],\n",
    "  [3,4],\n",
    "  [4,5],\n",
    "  [5,6],\n",
    "  [6,7],\n",
    "  [7,8],\n",
    "  [8,1]\n",
    "]"
   ]
  },
  {
   "cell_type": "code",
   "execution_count": 11,
   "metadata": {
    "collapsed": true
   },
   "outputs": [],
   "source": [
    "roof = MKPOL([vertsStruct, cellsStruct,[1]])\n",
    "roof = TEXTURE([roofTexture, TRUE, FALSE, 1, 1, 0, 6, 6])(OFFSET([par, par, par])(SKEL_2(roof)))\n"
   ]
  },
  {
   "cell_type": "code",
   "execution_count": 12,
   "metadata": {
    "collapsed": true
   },
   "outputs": [],
   "source": [
    "paviment = MKPOL([vertsStruct, [[9,10,16],[13,14,15,16],[11,12,13,16]],[1]])\n",
    "paviment = TEXTURE([pavTexture, TRUE, FALSE, 1, 1, 0, 6, 6])(OFFSET([par, par, par])(SKEL_2(paviment)))\n"
   ]
  },
  {
   "cell_type": "code",
   "execution_count": 13,
   "metadata": {
    "collapsed": true
   },
   "outputs": [],
   "source": [
    "completeRoof = STRUCT([roof, paviment])\n"
   ]
  },
  {
   "cell_type": "code",
   "execution_count": 14,
   "metadata": {
    "collapsed": false
   },
   "outputs": [
    {
     "data": {
      "text/plain": [
       "<pyplasm.xgepy.Hpc; proxy of <Swig Object of type 'std::shared_ptr< Hpc > *' at 0x10860c090> >"
      ]
     },
     "execution_count": 14,
     "metadata": {},
     "output_type": "execute_result"
    }
   ],
   "source": [
    "VIEW(completeRoof)\n"
   ]
  },
  {
   "cell_type": "code",
   "execution_count": null,
   "metadata": {
    "collapsed": true
   },
   "outputs": [],
   "source": []
  }
 ],
 "metadata": {
  "anaconda-cloud": {},
  "kernelspec": {
   "display_name": "Python [conda root]",
   "language": "python",
   "name": "conda-root-py"
  },
  "language_info": {
   "codemirror_mode": {
    "name": "ipython",
    "version": 2
   },
   "file_extension": ".py",
   "mimetype": "text/x-python",
   "name": "python",
   "nbconvert_exporter": "python",
   "pygments_lexer": "ipython2",
   "version": "2.7.12"
  }
 },
 "nbformat": 4,
 "nbformat_minor": 1
}
