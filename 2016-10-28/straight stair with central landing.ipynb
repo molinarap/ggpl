{
 "cells": [
  {
   "cell_type": "code",
   "execution_count": 1,
   "metadata": {
    "collapsed": false
   },
   "outputs": [
    {
     "data": {
      "text/plain": [
       "'workshop_03'"
      ]
     },
     "execution_count": 1,
     "metadata": {},
     "output_type": "execute_result"
    }
   ],
   "source": [
    "\"\"\"workshop_03\"\"\""
   ]
  },
  {
   "cell_type": "code",
   "execution_count": 2,
   "metadata": {
    "collapsed": false
   },
   "outputs": [
    {
     "name": "stdout",
     "output_type": "stream",
     "text": [
      "Evaluating fenvs.py..\n",
      "...fenvs.py imported in 0.00698322140546 seconds\n"
     ]
    }
   ],
   "source": [
    "from pyplasm import *"
   ]
  },
  {
   "cell_type": "code",
   "execution_count": 3,
   "metadata": {
    "collapsed": false
   },
   "outputs": [
    {
     "data": {
      "text/plain": [
       "\"\\nwall --> spessura del muro laterale di sostegno\\nground --> pavimento sottostante la scala\\nfootboard --> pedana antistante la scala\\nheight --> altezza del muro\\nlength --> lunghezza della scalinata (profondita' del muro)\\nsteps --> numero di gradini\\ndx --> larghezza gradino (parametro formale X)\\ndy --> lunghezza gradino (parametro formale Y)\\ndz --> altezza gradino (parametro formale Z)\\n\""
      ]
     },
     "execution_count": 3,
     "metadata": {},
     "output_type": "execute_result"
    }
   ],
   "source": [
    "\"\"\"\n",
    "wall --> spessura del muro laterale di sostegno\n",
    "ground --> pavimento sottostante la scala\n",
    "footboard --> pedana antistante la scala\n",
    "height --> altezza del muro\n",
    "length --> lunghezza della scalinata (profondita' del muro)\n",
    "steps --> numero di gradini\n",
    "dx --> larghezza gradino (parametro formale X)\n",
    "dy --> lunghezza gradino (parametro formale Y)\n",
    "dz --> altezza gradino (parametro formale Z)\n",
    "\"\"\""
   ]
  },
  {
   "cell_type": "code",
   "execution_count": 4,
   "metadata": {
    "collapsed": true
   },
   "outputs": [],
   "source": [
    "wall = 0.5\n",
    "ground = 0.20\n",
    "footboard=1.0\n",
    "height = 3.0\n",
    "length = 6.0\n",
    "steps=10.0\n",
    "dx= 3.5\n",
    "dy=length/steps\n",
    "dz=height/steps"
   ]
  },
  {
   "cell_type": "code",
   "execution_count": 5,
   "metadata": {
    "collapsed": false
   },
   "outputs": [
    {
     "data": {
      "text/plain": [
       "\"inizializzazione struttura vuota in cui verra' costruita la scala\""
      ]
     },
     "execution_count": 5,
     "metadata": {},
     "output_type": "execute_result"
    }
   ],
   "source": [
    "\"\"\"inizializzazione struttura vuota in cui verra' costruita la scala\"\"\""
   ]
  },
  {
   "cell_type": "code",
   "execution_count": 6,
   "metadata": {
    "collapsed": true
   },
   "outputs": [],
   "source": [
    "elem0 = CUBOID([0,0,0])\n",
    "struct = STRUCT([elem0])"
   ]
  },
  {
   "cell_type": "code",
   "execution_count": 7,
   "metadata": {
    "collapsed": false
   },
   "outputs": [
    {
     "data": {
      "text/plain": [
       "\"\\nbuildStair --> funzione che ricorsivamente costruisce un gradino alla volta\\nQuando arriva a una profondita' compresa tra i 2/5 e i 4/5 della profondita' totale costruisce un pianerottolo lungo 3 volte un gradino normale\\nnella costruzione del muro di sostegno e della pedana sottostante si tiene conto della lunghezza dei gradini\\ndella loro altezza e della lunghezza del pianerottolo\\n\""
      ]
     },
     "execution_count": 7,
     "metadata": {},
     "output_type": "execute_result"
    }
   ],
   "source": [
    "\"\"\"\n",
    "buildStair --> funzione che ricorsivamente costruisce un gradino alla volta\n",
    "Quando arriva a una profondita' compresa tra i 2/5 e i 4/5 della profondita' totale costruisce un pianerottolo lungo 3 volte un gradino normale\n",
    "nella costruzione del muro di sostegno e della pedana sottostante si tiene conto della lunghezza dei gradini\n",
    "della loro altezza e della lunghezza del pianerottolo\n",
    "\"\"\""
   ]
  },
  {
   "cell_type": "code",
   "execution_count": 8,
   "metadata": {
    "collapsed": true
   },
   "outputs": [],
   "source": [
    "def buildStair(x,y,z,tempWeight,tempHeight,tempStruct):\n",
    "\tif(2.0*length/5.0<tempWeight<4.0*length/5.0):\n",
    "\t\tstep = COLOR(BROWN)(CUBOID([x, y*3, z]))\n",
    "\t\ttraslation = STRUCT([T([1,2,3])([wall/3,tempWeight,tempHeight]),step])\n",
    "\t\ttempWeight = tempWeight + y*3.0\n",
    "\t\ttempHeight = tempHeight + z\t\n",
    "\telse:\n",
    "\t\tstep = COLOR(BROWN)(CUBOID([x, y, z]))\n",
    "\t\ttraslation = STRUCT([T([1,2,3])([wall/3,tempWeight,tempHeight]),step])\n",
    "\t\ttempWeight = tempWeight + y\n",
    "\t\ttempHeight = tempHeight + z\n",
    "\tstair = STRUCT([traslation,tempStruct])\n",
    "\tif tempWeight < length+y:\n",
    "\t\tbuildStair(x, y, z, tempWeight, tempHeight, stair)\n",
    "\telse:\n",
    "\t\tm = CUBOID([wall,length+footboard+y*2,height+ground])\n",
    "\t\tp = CUBOID([dx+wall/2,length+footboard+y*2,ground])\n",
    "\t\tstair = STRUCT([T([2,3])([footboard,ground]),stair])\t\t\n",
    "\t\tfinalStairs = STRUCT([m,p,stair])\n",
    "\n",
    "\t\tVIEW(finalStairs)"
   ]
  },
  {
   "cell_type": "code",
   "execution_count": 12,
   "metadata": {
    "collapsed": false
   },
   "outputs": [
    {
     "data": {
      "text/plain": [
       "'\\nggpl_straight_stair_with_central_landing --> funzione che prende in input i 3 parametri formali relativi alle 3 dimesioni\\n\\n'"
      ]
     },
     "execution_count": 12,
     "metadata": {},
     "output_type": "execute_result"
    }
   ],
   "source": [
    "\"\"\"\n",
    "ggpl_straight_stair_with_central_landing --> funzione che prende in input i 3 parametri formali relativi alle 3 dimesioni\n",
    "\n",
    "\"\"\""
   ]
  },
  {
   "cell_type": "code",
   "execution_count": 14,
   "metadata": {
    "collapsed": true
   },
   "outputs": [],
   "source": [
    "def ggpl_straight_stair_with_central_landing(x1,y1,z1):\n",
    "\tbuildStair(x1,y1,z1,0,0,struct)"
   ]
  },
  {
   "cell_type": "code",
   "execution_count": 16,
   "metadata": {
    "collapsed": true
   },
   "outputs": [],
   "source": [
    "ggpl_straight_stair_with_central_landing(dx,dy,dz)"
   ]
  },
  {
   "cell_type": "code",
   "execution_count": null,
   "metadata": {
    "collapsed": true
   },
   "outputs": [],
   "source": []
  }
 ],
 "metadata": {
  "kernelspec": {
   "display_name": "Python 2",
   "language": "python",
   "name": "python2"
  },
  "language_info": {
   "codemirror_mode": {
    "name": "ipython",
    "version": 2
   },
   "file_extension": ".py",
   "mimetype": "text/x-python",
   "name": "python",
   "nbconvert_exporter": "python",
   "pygments_lexer": "ipython2",
   "version": "2.7.3"
  }
 },
 "nbformat": 4,
 "nbformat_minor": 1
}
