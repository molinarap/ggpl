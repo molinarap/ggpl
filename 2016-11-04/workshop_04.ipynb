{
 "cells": [
  {
   "cell_type": "code",
   "execution_count": 1,
   "metadata": {
    "collapsed": false
   },
   "outputs": [
    {
     "data": {
      "text/plain": [
       "' WORKSHOP 04 '"
      ]
     },
     "execution_count": 1,
     "metadata": {},
     "output_type": "execute_result"
    }
   ],
   "source": [
    "\"\"\" WORKSHOP 04 \"\"\"\n"
   ]
  },
  {
   "cell_type": "code",
   "execution_count": 2,
   "metadata": {
    "collapsed": false
   },
   "outputs": [
    {
     "name": "stdout",
     "output_type": "stream",
     "text": [
      "Evaluating fenvs.py..\n",
      "...fenvs.py imported in 0.00757298117996 seconds\n"
     ]
    }
   ],
   "source": [
    "from pyplasm import *"
   ]
  },
  {
   "cell_type": "code",
   "execution_count": 3,
   "metadata": {
    "collapsed": true
   },
   "outputs": [],
   "source": [
    "par = 0.2\n",
    "\n",
    "x = [1.0,7.0,11.0,15.0,21.0]\n",
    "y = [2.0,7.0,12.0,17.0]\n",
    "z = [0.0, 5.0]"
   ]
  },
  {
   "cell_type": "code",
   "execution_count": 4,
   "metadata": {
    "collapsed": true
   },
   "outputs": [],
   "source": [
    "\"\"\"rappresentazione sul piano cartesiano del modello da ricreare\"\"\"\n",
    "vertsStruct = [[x[1],y[0],z[0]],[x[2],y[0],z[1]],[x[3],y[0],z[0]],[x[3],y[1],z[0]],[x[4],y[1],z[0]],[x[4],y[2],z[1]],[x[4],y[3],z[0]],[x[0],y[3],z[0]],[x[0],y[2],z[1]],[x[0],y[1],z[0]],[x[1],y[1],z[0]],[x[2],y[2],z[1]],[x[4],y[2],z[0]],[x[0],y[2],z[0]],[x[2],y[2],z[0]],[x[2],y[3],z[0]],[x[2],y[0],z[0]]]\n",
    "cellsStruct = [[8,7,9,6],[9,10,11,12],[12,4,5,6],[12,11,1,2],[12,2,3,4],[10,8],[7,5],[14,9],[13,6],[1,3],[12,15],[12,16],[13,14],[2,17]]"
   ]
  },
  {
   "cell_type": "code",
   "execution_count": 5,
   "metadata": {
    "collapsed": true
   },
   "outputs": [],
   "source": [
    "\"\"\"creazione primitiva del modello\"\"\"\n",
    "primitiveRoof = MKPOL([vertsStruct, cellsStruct,[1]])"
   ]
  },
  {
   "cell_type": "code",
   "execution_count": 6,
   "metadata": {
    "collapsed": true
   },
   "outputs": [],
   "source": [
    "\"\"\"creo il telaio del tetto verificandone la planarieta'\"\"\"\n",
    "structRoof = OFFSET([par, par, par])(SKEL_1(primitiveRoof))"
   ]
  },
  {
   "cell_type": "code",
   "execution_count": 7,
   "metadata": {
    "collapsed": true
   },
   "outputs": [],
   "source": [
    "\"\"\"creo una primitiva copertura del tetto adagiata sul telaio che dovra' essere adattata\"\"\"\n",
    "primitiveRoof_t = STRUCT([T([3])([par*2])(primitiveRoof)])"
   ]
  },
  {
   "cell_type": "code",
   "execution_count": 8,
   "metadata": {
    "collapsed": true
   },
   "outputs": [],
   "source": [
    "\"\"\"estraggo dalle travi del telaio i nuovi punti per adattare la copertura\"\"\"\n",
    "coords = UKPOL(primitiveRoof_t)\n",
    "vertsRoof = coords[0]\n",
    "cellsRoof = coords[1]"
   ]
  },
  {
   "cell_type": "code",
   "execution_count": 9,
   "metadata": {
    "collapsed": true
   },
   "outputs": [],
   "source": [
    "\"\"\"adatto la copertura in modo da coprire tutto il telaio\"\"\"\n",
    "vertsRoof = [[x[0],y[2],z[1]+par*2],[x[4],y[3]+par,z[0]+par],[x[4],y[2],z[1]+par*2],[x[0],y[3]+par,z[0]+par],[x[0],y[1]-par,z[0]+par],[x[2],y[2],z[1]+par*2],[x[1]-par,y[1]-par,z[0]+par],[x[0],y[2],z[1]+par*2],[x[4],y[1]-par,z[0]+par],[x[2],y[2],z[1]+par*2],[x[3]+par,y[1]-par,z[0]+par],[x[4],y[2],z[1]+par*2],[x[2],y[0],z[1]+par*2],[x[1]-par,y[1]-par,z[0]+par],[x[1]-par,y[0],z[0]+par],[x[2],y[2],z[1]+par*2],[x[2],y[2],z[1]+par*2],[x[3]+par,y[0],z[0]+par],[x[3]+par,y[1]-par,z[0]+par],[x[2],y[0],z[1]+par*2],[x[0],y[3]+par,z[0]+par],[x[0],y[1]-par,z[0]+par],[x[4],y[3]+par,z[0]+par],[x[4],y[1]-par,z[0]+par],[x[0],y[2],z[1]+par*2],[x[0],y[2],z[0]+par],[x[4],y[2],z[1]+par*2],[x[4],y[2],z[0]+par],[x[3]+par,y[0],z[0]+par],[x[1]-par,y[0],z[0]+par],[x[2],y[2],z[1]+par*2],[x[2],y[2],z[0]+par],[x[2],y[3]+par,z[0]+par],[x[2],y[2],z[1]+par*2],[x[4],y[2],z[0]+par],[x[0],y[2],z[0]+par],[x[2],y[0],z[1]+par*2],[x[2],y[0],z[0]+par]]"
   ]
  },
  {
   "cell_type": "code",
   "execution_count": 10,
   "metadata": {
    "collapsed": true
   },
   "outputs": [],
   "source": [
    "\"\"\"creo la copertura adattata al telaio in modo che lo ricopra completamente\"\"\"\n",
    "panelRoof = MKPOL([vertsRoof, cellsRoof,[1]])\n",
    "panelRoof = COLOR(BROWN)(OFFSET([par, par, par])(SKEL_2(panelRoof)))"
   ]
  },
  {
   "cell_type": "code",
   "execution_count": 11,
   "metadata": {
    "collapsed": true
   },
   "outputs": [],
   "source": [
    "\"\"\"assemblo il telaio alla copertura\"\"\"\n",
    "completeRoof = STRUCT([structRoof, panelRoof])"
   ]
  },
  {
   "cell_type": "code",
   "execution_count": 12,
   "metadata": {
    "collapsed": false
   },
   "outputs": [
    {
     "data": {
      "text/plain": [
       "<pyplasm.xgepy.Hpc; proxy of <Swig Object of type 'std::shared_ptr< Hpc > *' at 0x03C13EF0> >"
      ]
     },
     "execution_count": 12,
     "metadata": {},
     "output_type": "execute_result"
    }
   ],
   "source": [
    "VIEW(completeRoof)"
   ]
  },
  {
   "cell_type": "code",
   "execution_count": null,
   "metadata": {
    "collapsed": true
   },
   "outputs": [],
   "source": []
  }
 ],
 "metadata": {
  "kernelspec": {
   "display_name": "Python 2",
   "language": "python",
   "name": "python2"
  },
  "language_info": {
   "codemirror_mode": {
    "name": "ipython",
    "version": 2
   },
   "file_extension": ".py",
   "mimetype": "text/x-python",
   "name": "python",
   "nbconvert_exporter": "python",
   "pygments_lexer": "ipython2",
   "version": "2.7.3"
  }
 },
 "nbformat": 4,
 "nbformat_minor": 1
}
