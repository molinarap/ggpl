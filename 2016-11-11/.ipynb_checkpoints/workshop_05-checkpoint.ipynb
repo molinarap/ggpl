{
 "cells": [
  {
   "cell_type": "code",
   "execution_count": 1,
   "metadata": {
    "collapsed": false
   },
   "outputs": [
    {
     "data": {
      "text/plain": [
       "' workshop 05 '"
      ]
     },
     "execution_count": 1,
     "metadata": {},
     "output_type": "execute_result"
    }
   ],
   "source": [
    "\"\"\" workshop 05 \"\"\"\n"
   ]
  },
  {
   "cell_type": "code",
   "execution_count": 2,
   "metadata": {
    "collapsed": false
   },
   "outputs": [
    {
     "name": "stdout",
     "output_type": "stream",
     "text": [
      "Evaluating fenvs.py..\n",
      "...fenvs.py imported in 0.004541 seconds\n"
     ]
    }
   ],
   "source": [
    "from pyplasm import *\n"
   ]
  },
  {
   "cell_type": "code",
   "execution_count": 3,
   "metadata": {
    "collapsed": true
   },
   "outputs": [],
   "source": [
    "\"\"\" pavimento e muro dell'aula \"\"\"\n",
    "wall = CUBOID([5.0,0.1,3.0])\n",
    "floor = CUBOID([5.0,5.0,0.1])"
   ]
  },
  {
   "cell_type": "code",
   "execution_count": 4,
   "metadata": {
    "collapsed": true
   },
   "outputs": [],
   "source": [
    "\"\"\" definizione della funzione per la creazione di una lavagna \"\"\"\n",
    "def makeBlackboard(boardX,boardY,boardZ,legX,legY,legZ):\n",
    "\tblackboard = COLOR(BLACK)(CUBOID([boardX,boardY,boardZ]))\n",
    "\tboard = CUBOID([3.0,0.1,1.5])\n",
    "\tboardBlackboard = COLOR(BROWN)(OFFSET([0.1, 0.1, 0.1])(SKEL_1(board)))\n",
    "\tblackboard = STRUCT([boardBlackboard, blackboard])\n",
    "\ttotalBlackboard = STRUCT([T([1,2,3])([0.8,0.05,1.0]), blackboard])\n",
    "\treturn totalBlackboard"
   ]
  },
  {
   "cell_type": "code",
   "execution_count": 5,
   "metadata": {
    "collapsed": true
   },
   "outputs": [],
   "source": [
    "\"\"\" definizione della funzione per la creazione di un banco \"\"\"\n",
    "def makeDesk(planX,planY,planZ,legX,legY,legZ):\n",
    "\ttableLeg = CUBOID([legX,legY,legZ])\n",
    "\tcouple = STRUCT([tableLeg, T(2)(legZ), tableLeg])\n",
    "\tlegs = STRUCT([couple, T(1)(planX), couple])\n",
    "\tplan = COLOR(BROWN)(CUBOID([planX+legX,planY+legY,planZ]))\n",
    "\tdesk = STRUCT([legs, T(3)(legZ), plan])\n",
    "\ttotalDesk = STRUCT([T([1,2,3])([1.5,2.5,0.0]), desk])\n",
    "\treturn totalDesk"
   ]
  },
  {
   "cell_type": "code",
   "execution_count": 6,
   "metadata": {
    "collapsed": true
   },
   "outputs": [],
   "source": [
    "\"\"\" definizione della funzione per la creazione di una sedia \"\"\"\n",
    "def makeChair(legX,legY,legZ,seatX,seatY,seatZ):\n",
    "\tchairLeg = CUBOID([legX,legY,legZ])\n",
    "\tcouple = STRUCT([chairLeg, T(2)(seatY), chairLeg])\n",
    "\tlegs = STRUCT([couple, T(1)(seatX), couple]) \n",
    "\tseat = COLOR(BROWN)(CUBOID([seatX+legX,seatY+legY,seatZ]))\n",
    "\tparzChair = STRUCT([legs, T(3)(legZ-seatZ), seat, T(3)(seatZ), couple])\n",
    "\tback = COLOR(BROWN)(CUBOID([legX,seatY-legY,seatZ*2]))\n",
    "\tchair = STRUCT([parzChair, T([1,2,3])([0.02,0.05,0.6]), back])\n",
    "\ttotalChair = STRUCT([T([1,2,3])([1.7,3.2,0.0]), chair])\n",
    "\treturn totalChair"
   ]
  },
  {
   "cell_type": "code",
   "execution_count": 7,
   "metadata": {
    "collapsed": true
   },
   "outputs": [],
   "source": [
    "blackboardStruct= makeBlackboard(3.0,0.1,1.5,0.1,0.1,0.6)\n",
    "deskStruct = makeDesk(0.8,0.5,0.05,0.05,0.05,0.5)\n",
    "chairStruct = makeChair(0.05,0.05,0.4,0.3,0.3,0.08)"
   ]
  },
  {
   "cell_type": "code",
   "execution_count": 9,
   "metadata": {
    "collapsed": false
   },
   "outputs": [],
   "source": [
    "\"\"\" assemblo tutti gli oggetti \"\"\"\n",
    "allObj = STRUCT([wall, floor, blackboardStruct, deskStruct, chairStruct])"
   ]
  },
  {
   "cell_type": "code",
   "execution_count": 10,
   "metadata": {
    "collapsed": false
   },
   "outputs": [
    {
     "data": {
      "text/plain": [
       "<pyplasm.xgepy.Hpc; proxy of <Swig Object of type 'std::shared_ptr< Hpc > *' at 0x1084c3d20> >"
      ]
     },
     "execution_count": 10,
     "metadata": {},
     "output_type": "execute_result"
    }
   ],
   "source": [
    "VIEW(allObj)"
   ]
  },
  {
   "cell_type": "code",
   "execution_count": null,
   "metadata": {
    "collapsed": true
   },
   "outputs": [],
   "source": []
  }
 ],
 "metadata": {
  "anaconda-cloud": {},
  "kernelspec": {
   "display_name": "Python [default]",
   "language": "python",
   "name": "python2"
  },
  "language_info": {
   "codemirror_mode": {
    "name": "ipython",
    "version": 2
   },
   "file_extension": ".py",
   "mimetype": "text/x-python",
   "name": "python",
   "nbconvert_exporter": "python",
   "pygments_lexer": "ipython2",
   "version": "2.7.12"
  }
 },
 "nbformat": 4,
 "nbformat_minor": 1
}
