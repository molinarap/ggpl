{
 "cells": [
  {
   "cell_type": "code",
   "execution_count": 1,
   "metadata": {
    "collapsed": false
   },
   "outputs": [
    {
     "data": {
      "text/plain": [
       "' workshop 07 '"
      ]
     },
     "execution_count": 1,
     "metadata": {},
     "output_type": "execute_result"
    }
   ],
   "source": [
    "\"\"\" workshop 07 \"\"\"\n"
   ]
  },
  {
   "cell_type": "code",
   "execution_count": 2,
   "metadata": {
    "collapsed": false
   },
   "outputs": [
    {
     "name": "stdout",
     "output_type": "stream",
     "text": [
      "Evaluating fenvs.py..\n",
      "...fenvs.py imported in 0.004877 seconds\n"
     ]
    }
   ],
   "source": [
    "from pyplasm import *\n"
   ]
  },
  {
   "cell_type": "code",
   "execution_count": 3,
   "metadata": {
    "collapsed": true
   },
   "outputs": [],
   "source": [
    "# texture\n",
    "darkWoodTexture = \"texture/dark_wood.jpg\"\n",
    "whiteWoodTexture = \"texture/white_wood.jpg\"\n",
    "glassTexture = \"texture/glass.jpg\"\n",
    "metalTexture = \"texture/metal.jpg\""
   ]
  },
  {
   "cell_type": "code",
   "execution_count": 4,
   "metadata": {
    "collapsed": true
   },
   "outputs": [],
   "source": [
    "\n",
    "# window 1\n",
    "xWindow1 = [0.0,0.1,0.6,0.7,1.2,1.3]\n",
    "yWindow1 = [0.0,0.1,1.2,1.3,1.8,1.9]\n",
    "occWindow1 = [[1,1,1,1,1],[1,0,1,0,1],[1,1,1,1,1],[1,0,1,0,1],[1,1,1,1,1]]\n",
    "\n",
    "# window 2\n",
    "xWindow2 = [0.0,0.1,0.6,0.7,2.0,2.1,2.5,2.6]\n",
    "yWindow2 = [0.0,0.1,1.5,1.6,2.0,2.1]\n",
    "occWindow2 = [[1,1,1,1,1,1,1],[1,0,1,0,1,0,1],[1,1,1,1,1,1,1],[1,0,1,0,1,0,1],[1,1,1,1,1,1,1]]\n",
    "\n",
    "# door 1\n",
    "xDoor1 = [0.0, 1.0]\n",
    "yDoor1 = [0.0,0.37,0.4,0.78,0.8,1.18,1.2,1.58,1.6,2.0]\n",
    "occDoor1 = [[1],[0],[1],[0],[1],[0],[1],[0],[1]]\n",
    "\n",
    "# door 2\n",
    "xDoor2 = [0.0,0.2,0.4,0.6,0.8,1.0]\n",
    "yDoor2 = [0.0,0.2,0.9,1.0,1.6,1.8]\n",
    "occDoor2 = [[1,1,1,1,1],[1,0,1,0,1],[1,1,1,1,1],[1,0,1,0,1],[1,1,1,1,1]]"
   ]
  },
  {
   "cell_type": "code",
   "execution_count": 5,
   "metadata": {
    "collapsed": true
   },
   "outputs": [],
   "source": [
    "zero = QUOTE([.0,.0])\n",
    "initStruct = STRUCT([zero])"
   ]
  },
  {
   "cell_type": "code",
   "execution_count": 6,
   "metadata": {
    "collapsed": true
   },
   "outputs": [],
   "source": [
    "def windows(i, j, s):\n",
    "\tif j != len(yWindow1)-1:\n",
    "\t\tif  i != len(xWindow1)-1:\n",
    "\t\t\tif occWindow1[j][i]==0:\n",
    "\t\t\t\tx = TEXTURE([glassTexture, TRUE, FALSE, 1, 1, 0, 1, 1])(CUBOID([xWindow1[i+1]-xWindow1[i],yWindow1[j+1]-yWindow1[j],0.01]))\n",
    "\t\t\t\tx_tras = STRUCT([T([1,2,3])([xWindow1[i],yWindow1[j],0.1/3]), x])\n",
    "\t\t\telse:\n",
    "\t\t\t\tx = TEXTURE([darkWoodTexture, TRUE, FALSE, 1, 1, 0, 1, 1])(CUBOID([xWindow1[i+1]-xWindow1[i],yWindow1[j+1]-yWindow1[j],0.1]))\n",
    "\t\t\t\tx_tras = STRUCT([T([1,2])([xWindow1[i],yWindow1[j]]), x])\n",
    "\t\t\ts = STRUCT([s,x_tras])\n",
    "\t\t\treturn windows(i+1, j, s)\n",
    "\t\telse:\n",
    "\t\t\treturn windows(0, j+1, s)\n",
    "\telse:\n",
    "\t\tVIEW(s)\n",
    "\n",
    "windows(0, 0, initStruct)"
   ]
  },
  {
   "cell_type": "code",
   "execution_count": 7,
   "metadata": {
    "collapsed": true
   },
   "outputs": [],
   "source": [
    "def doors(i, j, s):\n",
    "\tif j != len(yDoor1)-1:\n",
    "\t\tif  i != len(xDoor1)-1:\n",
    "\t\t\tif occDoor1[j][i]==0:\n",
    "\t\t\t\tx = TEXTURE([metalTexture, TRUE, FALSE, 1, 1, 0, 1, 1])(CUBOID([xDoor1[i+1]-xDoor1[i],yDoor1[j+1]-yDoor1[j],0.1]))\n",
    "\t\t\t\tx_tras = STRUCT([T([1,2,3])([xDoor1[i],yDoor1[j],0.0]), x])\n",
    "\t\t\telse:\n",
    "\t\t\t\tx = TEXTURE([whiteWoodTexture, TRUE, FALSE, 1, 1, 0, 1, 1])(CUBOID([xDoor1[i+1]-xDoor1[i],yDoor1[j+1]-yDoor1[j],0.1]))\n",
    "\t\t\t\tx_tras = STRUCT([T([1,2])([xDoor1[i],yDoor1[j]]), x])\n",
    "\t\t\ts = STRUCT([s,x_tras])\n",
    "\t\t\treturn doors(i+1, j, s)\n",
    "\t\telse:\n",
    "\t\t\treturn doors(0, j+1, s)\n",
    "\telse:\n",
    "\t\tman = TEXTURE([metalTexture, TRUE, FALSE, 1, 1, 0, 1, 1])(CUBOID([0.2,0.05,0.05]))\n",
    "\t\tman = STRUCT([T([1,2,3])([0.0,0.0,0.15]), man])\n",
    "\t\tman_1 = TEXTURE([metalTexture, TRUE, FALSE, 1, 1, 0, 1, 1])(CUBOID([0.05,0.05,0.05]))\n",
    "\t\tman_1 = STRUCT([T([1,2,3])([0.0,0.0,0.1]), man_1])\n",
    "\t\tman_tras = STRUCT([man,man_1])\n",
    "\t\tman_tras = STRUCT([T([1,2,3])([xDoor1[i]+0.1,yDoor1[j]/2,0.0]), man_tras])\n",
    "\t\ts = STRUCT([s,man_tras])\n",
    "\t\tVIEW(s)\n",
    "\n",
    "doors(0, 0, initStruct)"
   ]
  },
  {
   "cell_type": "code",
   "execution_count": null,
   "metadata": {
    "collapsed": true
   },
   "outputs": [],
   "source": []
  }
 ],
 "metadata": {
  "anaconda-cloud": {},
  "kernelspec": {
   "display_name": "Python [conda root]",
   "language": "python",
   "name": "conda-root-py"
  },
  "language_info": {
   "codemirror_mode": {
    "name": "ipython",
    "version": 2
   },
   "file_extension": ".py",
   "mimetype": "text/x-python",
   "name": "python",
   "nbconvert_exporter": "python",
   "pygments_lexer": "ipython2",
   "version": "2.7.12"
  }
 },
 "nbformat": 4,
 "nbformat_minor": 1
}
