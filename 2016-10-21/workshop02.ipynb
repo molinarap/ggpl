{
 "cells": [
  {
   "cell_type": "code",
   "execution_count": 4,
   "metadata": {
    "collapsed": false
   },
   "outputs": [
    {
     "data": {
      "text/plain": [
       "'workshop_02'"
      ]
     },
     "execution_count": 4,
     "metadata": {},
     "output_type": "execute_result"
    }
   ],
   "source": [
    "\"\"\"workshop_02\"\"\""
   ]
  },
  {
   "cell_type": "code",
   "execution_count": 7,
   "metadata": {
    "collapsed": true
   },
   "outputs": [],
   "source": [
    "from larlib import *"
   ]
  },
  {
   "cell_type": "code",
   "execution_count": 8,
   "metadata": {
    "collapsed": false
   },
   "outputs": [
    {
     "data": {
      "text/plain": [
       "\"\\nbeams_weights ---> lunghezza delle travi tra i pilastri dell'edificio\\npilars_heights ---> lunghezza dei pilastri dell'edificio\\nplan_distance ---> distanza tra un piano e l'altro all'interno dell'edificio\\npilar_weight ---> larghezza di un pilastro\\nbeam_weight ---> larghezza delle travi, sempre la meta' dei pilastri in modo \\n\\t\\t\\t\\t che una trave possa sempre poggiare su un pilastro\\n\""
      ]
     },
     "execution_count": 8,
     "metadata": {},
     "output_type": "execute_result"
    }
   ],
   "source": [
    "\"\"\"\n",
    "beams_weights ---> lunghezza delle travi tra i pilastri dell'edificio\n",
    "pilars_heights ---> lunghezza dei pilastri dell'edificio\n",
    "plan_distance ---> distanza tra un piano e l'altro all'interno dell'edificio\n",
    "pilar_weight ---> larghezza di un pilastro\n",
    "beam_weight ---> larghezza delle travi, sempre la meta' dei pilastri in modo \n",
    "\t\t\t\t che una trave possa sempre poggiare su un pilastro\n",
    "\"\"\""
   ]
  },
  {
   "cell_type": "code",
   "execution_count": 9,
   "metadata": {
    "collapsed": true
   },
   "outputs": [],
   "source": [
    "beams_weights = [4.0, 4.0]"
   ]
  },
  {
   "cell_type": "code",
   "execution_count": 10,
   "metadata": {
    "collapsed": true
   },
   "outputs": [],
   "source": [
    "pilars_heights = [5.0, 2.5, 2.5]"
   ]
  },
  {
   "cell_type": "code",
   "execution_count": 11,
   "metadata": {
    "collapsed": true
   },
   "outputs": [],
   "source": [
    "plan_distance = [3.0, 3.0, 3.0, 3.0, 3.0, 3.0, 3.0, 3.0, 3.0, 3.0 ,3.0, 3.0, 3.0, 3.0]"
   ]
  },
  {
   "cell_type": "code",
   "execution_count": 12,
   "metadata": {
    "collapsed": true
   },
   "outputs": [],
   "source": [
    "pilar_weight = 0.5"
   ]
  },
  {
   "cell_type": "code",
   "execution_count": 13,
   "metadata": {
    "collapsed": true
   },
   "outputs": [],
   "source": [
    "beam_weight = pilar_weight/2.0"
   ]
  },
  {
   "cell_type": "code",
   "execution_count": 14,
   "metadata": {
    "collapsed": false
   },
   "outputs": [
    {
     "data": {
      "text/plain": [
       "\"\\ninizializzo una struttura vuota in cui verra' costruito il telaio\\n\""
      ]
     },
     "execution_count": 14,
     "metadata": {},
     "output_type": "execute_result"
    }
   ],
   "source": [
    "\"\"\"\n",
    "inizializzo una struttura vuota in cui verra' costruito il telaio\n",
    "\"\"\""
   ]
  },
  {
   "cell_type": "code",
   "execution_count": 15,
   "metadata": {
    "collapsed": true
   },
   "outputs": [],
   "source": [
    "p0 = CUBOID([0,0,0])"
   ]
  },
  {
   "cell_type": "code",
   "execution_count": 16,
   "metadata": {
    "collapsed": true
   },
   "outputs": [],
   "source": [
    "arc = STRUCT([p0])"
   ]
  },
  {
   "cell_type": "code",
   "execution_count": 17,
   "metadata": {
    "collapsed": false
   },
   "outputs": [
    {
     "data": {
      "text/plain": [
       "\"\\nfunzione ricorsiva che crea l'intera struttura andando a creare un piano sull'altro\\n\""
      ]
     },
     "execution_count": 17,
     "metadata": {},
     "output_type": "execute_result"
    }
   ],
   "source": [
    "\"\"\"\n",
    "funzione ricorsiva che crea l'intera struttura andando a creare un piano sull'altro\n",
    "\"\"\""
   ]
  },
  {
   "cell_type": "code",
   "execution_count": 18,
   "metadata": {
    "collapsed": true
   },
   "outputs": [],
   "source": [
    "def createFloor(pilar_height_tot, beam_weight_tot, plan_distance_tot, x, z, y, arc_all):\n",
    "\tif  z < len(pilars_heights): #1\n",
    "\t\tp1 = COLOR(GREEN)(CUBOID([pilar_weight,pilar_weight,pilars_heights[z]]))\n",
    "\t\tp1_t = STRUCT([T(1)(plan_distance_tot),T(2)(beam_weight_tot),T(3)(pilar_height_tot), p1])\n",
    "\t\tt1 = COLOR(RED)(CUBOID([beam_weight,beams_weights[y],beam_weight]))\n",
    "\t\tt1_t = STRUCT([T([1,2,3])([beam_weight/2.0+plan_distance_tot, (3.0*pilar_weight/4.0)+beam_weight_tot, pilar_height_tot+pilars_heights[z]]), t1])\n",
    "\t\tif  x < len(plan_distance): #0\n",
    "\t\t\tarc_all = STRUCT([arc_all,p1_t,t1_t])\n",
    "\t\t\tt2 = COLOR(RED)(CUBOID([plan_distance[x],beam_weight,beam_weight]))\n",
    "\t\t\tt2_t = STRUCT([T([1,2,3])([beam_weight/2.0+plan_distance_tot, (pilar_weight/4.0)+beam_weight_tot, pilar_height_tot+pilars_heights[z]]), t2])\n",
    "\t\t\tbeam_weight_tot=beam_weight_tot+beams_weights[y]+(pilar_weight/2.0)\n",
    "\t\t\tif y < len(beams_weights) - 1: #0\n",
    "\t\t\t\ty=y+1\n",
    "\t\t\t\tarc_all = STRUCT([arc_all,t2_t])\n",
    "\t\t\t\treturn createFloor(pilar_height_tot, beam_weight_tot, plan_distance_tot, x, z, y, arc_all)\n",
    "\t\t\telse:\n",
    "\t\t\t\tp1_next_t = STRUCT([T(1)(plan_distance_tot),T(2)(beam_weight_tot),T(3)(pilar_height_tot), p1])\n",
    "\t\t\t\tt2_next_t = STRUCT([T([1,2,3])([beam_weight/2.0+plan_distance_tot, (pilar_weight/4.0)+beam_weight_tot,pilar_height_tot+pilars_heights[z]]), t2])\n",
    "\t\t\t\tarc_all = STRUCT([arc_all,t2_t,p1_next_t,t2_next_t])\n",
    "\t\t\t\tplan_distance_tot = plan_distance_tot + plan_distance[x]\n",
    "\t\t\t\tx=x+1\n",
    "\t\t\t\treturn createFloor(pilar_height_tot, 0, plan_distance_tot, x, z, 0, arc_all)\n",
    "\t\telse:\n",
    "\t\t\tpilar_height_tot = pilar_height_tot + pilars_heights[z] + beam_weight\n",
    "\t\t\tz=z+1\n",
    "\t\t\treturn createFloor(pilar_height_tot, 0, 0, 0, z, 0, arc_all)\n",
    "\telse:\n",
    "\t\tdist = 0\n",
    "\t\tfor p in plan_distance:\n",
    "\t\t\tdist = dist + p\n",
    "\t\treturn createLastFrame(dist, 0, 0, 0, 0, arc_all)"
   ]
  },
  {
   "cell_type": "code",
   "execution_count": 19,
   "metadata": {
    "collapsed": false
   },
   "outputs": [
    {
     "data": {
      "text/plain": [
       "'\\nfunzione ricorsiva che crea il telaio di chiusura della struttura\\n'"
      ]
     },
     "execution_count": 19,
     "metadata": {},
     "output_type": "execute_result"
    }
   ],
   "source": [
    "\"\"\"\n",
    "funzione ricorsiva che crea il telaio di chiusura della struttura\n",
    "\"\"\""
   ]
  },
  {
   "cell_type": "code",
   "execution_count": 20,
   "metadata": {
    "collapsed": true
   },
   "outputs": [],
   "source": [
    "def createLastFrame(dist, pilar_height_tot, beam_weight_tot, i, y, arc_all):\n",
    "\tp1 = COLOR(GREEN)(CUBOID([pilar_weight,pilar_weight,pilars_heights[y]]))\n",
    "\tp1_t = STRUCT([T(1)(dist),T(2)(beam_weight_tot),T(3)(pilar_height_tot), p1])\n",
    "\tt1 = COLOR(RED)(CUBOID([beam_weight,beams_weights[i],beam_weight]))\n",
    "\tt1_t = STRUCT([T([1,2,3])([beam_weight/2.0+dist, (3.0*pilar_weight/4.0)+beam_weight_tot,pilar_height_tot+pilars_heights[y]]), t1])\n",
    "\tbeam_weight_tot=beam_weight_tot+beams_weights[i]+(pilar_weight/2.0)\n",
    "\tif i == len(beams_weights) - 1:\n",
    "\t\tp1_next_t = STRUCT([T(1)(dist),T(2)(beam_weight_tot),T(3)(pilar_height_tot), p1])\n",
    "\t\tpilar_height_tot = pilar_height_tot + pilars_heights[y] + beam_weight\n",
    "\t\tarc_all = STRUCT([arc_all,p1_t,t1_t,p1_next_t])\n",
    "\t\tif y != len(pilars_heights) - 1:\n",
    "\t\t\ty=y+1\n",
    "\t\t\treturn createLastFrame(dist, pilar_height_tot, 0, 0, y, arc_all)\n",
    "\t\telse:\n",
    "\t\t\tVIEW(arc_all)\n",
    "\telse:\n",
    "\t\ti=i+1\n",
    "\t\tarc_all = STRUCT([arc_all,p1_t,t1_t])\n",
    "\t\treturn createLastFrame(dist, pilar_height_tot, beam_weight_tot, i, y, arc_all)"
   ]
  },
  {
   "cell_type": "code",
   "execution_count": 21,
   "metadata": {
    "collapsed": true
   },
   "outputs": [],
   "source": [
    "createFloor(0, 0, 0, 0, 0, 0, arc)"
   ]
  },
  {
   "cell_type": "code",
   "execution_count": null,
   "metadata": {
    "collapsed": true
   },
   "outputs": [],
   "source": []
  }
 ],
 "metadata": {
  "kernelspec": {
   "display_name": "Python [default]",
   "language": "python",
   "name": "python2"
  },
  "language_info": {
   "codemirror_mode": {
    "name": "ipython",
    "version": 2
   },
   "file_extension": ".py",
   "mimetype": "text/x-python",
   "name": "python",
   "nbconvert_exporter": "python",
   "pygments_lexer": "ipython2",
   "version": "2.7.12"
  }
 },
 "nbformat": 4,
 "nbformat_minor": 1
}
