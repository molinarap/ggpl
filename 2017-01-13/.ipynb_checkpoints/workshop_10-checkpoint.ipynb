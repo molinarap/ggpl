{
 "cells": [
  {
   "cell_type": "code",
   "execution_count": 1,
   "metadata": {
    "collapsed": false
   },
   "outputs": [
    {
     "name": "stdout",
     "output_type": "stream",
     "text": [
      "Evaluating fenvs.py..\n",
      "...fenvs.py imported in 0.005086 seconds\n"
     ]
    }
   ],
   "source": [
    "\"\"\" workshop 10 \"\"\"\n",
    "from pyplasm import *\n",
    "import numpy as np\n",
    "import sys, os\n"
   ]
  },
  {
   "cell_type": "code",
   "execution_count": 2,
   "metadata": {
    "collapsed": true
   },
   "outputs": [],
   "source": [
    "sys.setrecursionlimit(1500)\n"
   ]
  },
  {
   "cell_type": "code",
   "execution_count": 3,
   "metadata": {
    "collapsed": true
   },
   "outputs": [],
   "source": [
    "\"\"\"texture vari livelli della casa\"\"\"\n",
    "pavTexture = \"texture/pav2.png\"\n",
    "doorWindowsTexture = \"texture/pav2.png\"\n",
    "wallTexture = \"texture/wall2.jpg\"\n",
    "wallStone = \"texture/wall5.jpg\"\n",
    "doorTexture = \"texture/white_wood.jpg\"\n",
    "metalTexture = \"texture/metal.jpg\"\n",
    "glassTexture = \"texture/glass.jpg\"\n",
    "roofTexture = \"texture/roof.jpg\"\n",
    "stairTexture = \"texture/stair.jpg\""
   ]
  },
  {
   "cell_type": "code",
   "execution_count": 4,
   "metadata": {
    "collapsed": true
   },
   "outputs": [],
   "source": [
    "\"\"\"struttra iniziale di appoggio\"\"\"\n",
    "zero = CUBOID([.0,.0,.0])\n",
    "initStruct = STRUCT([zero])"
   ]
  },
  {
   "cell_type": "code",
   "execution_count": 5,
   "metadata": {
    "collapsed": true
   },
   "outputs": [],
   "source": [
    "\"\"\"misure per la costruzione dei vari livelli della casa\"\"\"\n",
    "level_height = [30.0,30.0,20.0,30.0,30.0,20.0]\n",
    "heights = [60.0,20.0,3.5,60.0,20.0]"
   ]
  },
  {
   "cell_type": "code",
   "execution_count": 6,
   "metadata": {
    "collapsed": true
   },
   "outputs": [],
   "source": [
    "\"\"\"funzione che conta i file contenuti in una directory\"\"\"\n",
    "def countFileDirectory(path):\n",
    "  i = 0\n",
    "  for name in os.listdir(path):\n",
    "      if not name.startswith('.'):\n",
    "        i = i + 1\n",
    "  return i"
   ]
  },
  {
   "cell_type": "code",
   "execution_count": 7,
   "metadata": {
    "collapsed": true
   },
   "outputs": [],
   "source": [
    "\"\"\"funzione che legge i file lines di tutti i livelli della casa\"\"\"\n",
    "def readSvg(l,reading_level,path):\n",
    "  file = open(\"params/\"+path+\"/lines/level-\"+str(l)+\".lines\",\"r\")\n",
    "  data = file.read()\n",
    "  n = countFileDirectory(\"params/\"+path+\"/lines/\")\n",
    "  file.close()\n",
    "  d = data.splitlines()\n",
    "  reading_level = reading_level + [d]\n",
    "  if l!=n-1:\n",
    "    return readSvg(l+1,reading_level,path)\n",
    "  else:\n",
    "    return reading_level\n",
    "\n",
    "levelBase = readSvg(0,[],\"base\")\n",
    "levelExternal = readSvg(0,[],\"external\")\n",
    "levelInternal = readSvg(0,[],\"internal\")\n",
    "levelDoors = readSvg(0,[],\"doors\")\n",
    "levelWindows = readSvg(0,[],\"windows\")\n",
    "levelStair = readSvg(0,[],\"stair\")"
   ]
  },
  {
   "cell_type": "code",
   "execution_count": 8,
   "metadata": {
    "collapsed": true
   },
   "outputs": [],
   "source": [
    "\"\"\"funzioni che trasforma le stringhe di punto dei file lines in array\"\"\"\n",
    "def parseLines(l,i, params):\n",
    "  string_line = params[l][i]\n",
    "  split_line = string_line.split(\",\")\n",
    "  array_line = np.array(split_line, dtype=float)\n",
    "  return array_line"
   ]
  },
  {
   "cell_type": "code",
   "execution_count": 9,
   "metadata": {
    "collapsed": true
   },
   "outputs": [],
   "source": [
    "\"\"\"funzione che dati i file lines contenuti nell cartella /params/external/lines\"\"\"\n",
    "\"\"\"costuisce i muri esterni della casa\"\"\"\n",
    "def buildExternal(l,i,h,s1):\n",
    "  if l <= len(levelExternal)-1:\n",
    "    if i < len(levelExternal[l]):\n",
    "      params = parseLines(l,i,levelExternal)\n",
    "      a_pol = MKPOL([[[params[0],params[1],0.0],[params[0],params[3],0.0],[params[2],params[1],0.0],[params[2],params[3],0.0]],[[1,2,3,4]],[1]])\n",
    "      a_off = OFFSET([3.0, 3.0, level_height[l]])(a_pol)\n",
    "      if l==0:\n",
    "        a_texture = TEXTURE([wallStone, TRUE, FALSE, 1, 1, 0, 2, 1])(a_off)\n",
    "      else:\n",
    "        if l==3:\n",
    "          a_texture = TEXTURE([wallStone, TRUE, FALSE, 1, 1, 0, 6, 1])(a_off)\n",
    "        else:\n",
    "          a_texture = TEXTURE([wallTexture, TRUE, FALSE, 1, 1, 0, 6, 1])(a_off)\n",
    "      a_tras = STRUCT([T(3)(h), a_texture])\n",
    "      s2 = STRUCT([a_tras, s1])\n",
    "      return buildExternal(l,i+1,h,s2)\n",
    "    else:\n",
    "      h = h + level_height[l]\n",
    "      return buildExternal(l+1,0,h,s1)\n",
    "  else:\n",
    "    return s1"
   ]
  },
  {
   "cell_type": "code",
   "execution_count": 29,
   "metadata": {
    "collapsed": true
   },
   "outputs": [],
   "source": [
    "\n",
    "\"\"\"funzione che dati i file lines contenuti nell cartella /params/base/lines\"\"\"\n",
    "\"\"\"costuisce la base della casa\"\"\"\n",
    "def buildFloor1(i,s1):\n",
    "  if i < len(levelBase[0]):\n",
    "    params = parseLines(0,i,levelBase)\n",
    "    a_pol = POLYLINE([[params[0],params[1]],[params[2],params[3]]])\n",
    "    a_off = OFFSET([4.0, 5.5, 2.0])(a_pol)\n",
    "    s2 = STRUCT([a_off, s1])\n",
    "    return buildFloor1(i+1,s2)\n",
    "  else:\n",
    "    s1 = SOLIDIFY(SKEL_2(s1))\n",
    "    s1 = TEXTURE([pavTexture, TRUE, FALSE, 1, 1, 0, 16, 1])(s1)\n",
    "    return s1"
   ]
  },
  {
   "cell_type": "code",
   "execution_count": 10,
   "metadata": {
    "collapsed": true
   },
   "outputs": [],
   "source": [
    "\"\"\"funzione che dati i file lines contenuti nell cartella /params/internal/lines\"\"\"\n",
    "\"\"\"costuisce i muri interni della casa\"\"\"\n",
    "def buildIntenal(l,i,h,s1):\n",
    "  if l <= len(levelInternal)-1:\n",
    "    if i < len(levelInternal[l]):\n",
    "      params = parseLines(l,i,levelInternal)\n",
    "      a_pol = MKPOL([[[params[0],params[1],0.0],[params[0],params[3],0.0],[params[2],params[1],0.0],[params[2],params[3],0.0]],[[1,2,3,4]],[1]])\n",
    "      a_off = OFFSET([1.0, 1.0, level_height[l]])(a_pol)\n",
    "      a_texture = TEXTURE([wallTexture, TRUE, FALSE, 1, 1, 0, 2, 1])(a_off)\n",
    "      a_tras = STRUCT([T(3)(h), a_texture])\n",
    "      s2 = STRUCT([a_tras, s1])\n",
    "      return buildIntenal(l,i+1,h,s2)\n",
    "    else:\n",
    "      h = h + level_height[l]\n",
    "      return buildIntenal(l+1,0,h,s1)\n",
    "  else:\n",
    "    return s1"
   ]
  },
  {
   "cell_type": "code",
   "execution_count": 11,
   "metadata": {
    "collapsed": true
   },
   "outputs": [],
   "source": [
    "\"\"\"funzione che dati i parametri costruisce una singola porta\"\"\"\n",
    "def buildOneDoor(elem, j, h, door):\n",
    "  if j < 13:\n",
    "    build = MKPOL([[[elem[0],elem[1],0.0],[elem[2],elem[3],0.0]],[[1,2]],[1]])\n",
    "    if not j%2:\n",
    "      buildOffset = OFFSET([3.5, 3.5, 8.5])(build)\n",
    "      buildTexture = TEXTURE([doorWindowsTexture, TRUE, FALSE, 1, 1, 0, 6, 1])(buildOffset)\n",
    "      buildTras = STRUCT([T([3])([h]), buildTexture])\n",
    "      h = h + 8.5\n",
    "    else:\n",
    "      buildOffset = OFFSET([3.5, 3.5, 0.5])(build)\n",
    "      buildTexture = TEXTURE([metalTexture, TRUE, FALSE, 1, 1, 0, 1, 1])(buildOffset)\n",
    "      buildTras = STRUCT([T([3])([h]), buildTexture])\n",
    "      h = h + 0.5\n",
    "    door = STRUCT([buildTras,door])\n",
    "    return buildOneDoor(elem, j+1, h, door)\n",
    "  else:\n",
    "    return door"
   ]
  },
  {
   "cell_type": "code",
   "execution_count": 12,
   "metadata": {
    "collapsed": true
   },
   "outputs": [],
   "source": [
    "\"\"\"funzione che dati i parametri per la costruzione della porta crea una maniglia\"\"\"\n",
    "\"\"\"posizionandola in maniera ottimale sulla porta\"\"\"\n",
    "def createHandle(elem,s1):\n",
    "  handle = MKPOL([[[elem[0],elem[1],0.0],[elem[2],elem[3],0.0]],[[1,2]],[1]])\n",
    "  handle0 = OFFSET([8.0, 1.0, 1.0])(handle)\n",
    "  if (elem[0]-elem[2]<1.0) & (elem[0]-elem[2]>-1.0):\n",
    "    handle_0 = STRUCT([T([1,2,3])([-2.0,1.0,31.0]), handle0])\n",
    "    handle_1 = STRUCT([T([1,2,3])([-2.0,3.0,31.0]), handle0])\n",
    "    handle1 = OFFSET([1.0, 1.5, 1.0])(handle)\n",
    "    handle_2 = STRUCT([T([1,2,3])([5.0,1.0,31.0]), handle1])\n",
    "    handle_3 = STRUCT([T([1,2,3])([5.0,6.0,31.0]), handle1])\n",
    "    handle_01 = DIFF([handle_0,handle_1])\n",
    "    handle_23 = DIFF([handle_2,handle_3])\n",
    "    handle_23_2 = STRUCT([T([1])([-8.0]), handle_23])\n",
    "  else:\n",
    "    handle = MKPOL([[[elem[0],elem[1],0.0],[elem[2],elem[3],0.0]],[[1,2]],[1]])\n",
    "    handle0 = OFFSET([1.0, 8.0, 1.0])(handle)\n",
    "    handle_0 = STRUCT([T([1,2,3])([1.0,-2.0,31.0]), handle0])\n",
    "    handle_1 = STRUCT([T([1,2,3])([3.0,-2.0,31.0]), handle0])\n",
    "    handle1 = OFFSET([1.0, 1.5, 1.0])(handle)\n",
    "    handle_2 = STRUCT([T([1,2,3])([1.0,5.0,31.0]), handle1])\n",
    "    handle_3 = STRUCT([T([1,2,3])([6.0,5.0,31.0]), handle1])\n",
    "    handle_01 = DIFF([handle_0,handle_1])\n",
    "    handle_23 = DIFF([handle_2,handle_3])\n",
    "    handle_23_2 = STRUCT([T([2])([-8.0]), handle_23])\n",
    "  handle_all = STRUCT([handle_01,handle_23,handle_23_2])\n",
    "  handle_all = TEXTURE([metalTexture, TRUE, FALSE, 1, 1, 0, 1, 1])(handle_all)\n",
    "  s1 = STRUCT([s1,handle_all])\n",
    "  return s1"
   ]
  },
  {
   "cell_type": "code",
   "execution_count": 13,
   "metadata": {
    "collapsed": true
   },
   "outputs": [],
   "source": [
    "\"\"\"funzione che dati i file lines contenuti nell cartella /params/doors/lines\"\"\"\n",
    "\"\"\"costuisce le porte della casa su ogni piano\"\"\"\n",
    "\"\"\"utilizza la funzione buildOneDoor(...) e createHandle(...)\"\"\"\n",
    "def buildAllDoors(l,i,h,s1):\n",
    "  if l <= len(levelDoors)-1:\n",
    "    if i < len(levelDoors[l]):\n",
    "      params = parseLines(l,i,levelDoors)\n",
    "      d = buildOneDoor(params, 0, h, initStruct)\n",
    "      hand = createHandle(params,initStruct)\n",
    "      hand = STRUCT([T([3])([h]), hand])\n",
    "      finalStruct = STRUCT([d, s1, hand])\n",
    "      return buildAllDoors(l,i+1,h,finalStruct)\n",
    "    else:\n",
    "      h = h + 80.0 #se e' una porta tiro su di 60\n",
    "      return buildAllDoors(l+1,0,h,s1)\n",
    "  else:\n",
    "    return s1"
   ]
  },
  {
   "cell_type": "code",
   "execution_count": 14,
   "metadata": {
    "collapsed": true
   },
   "outputs": [],
   "source": [
    "\"\"\"funzione che dati i parametri costruisce una singola finestra\"\"\"\n",
    "def buildOneWindow(params,h):\n",
    "  q1 = MKPOL([[[params[0],params[1],0.0],[params[2],params[3],0.0]],[[1,2]],[1]])\n",
    "  q1 = OFFSET([3.5, 3.5, 30.0])(q1)\n",
    "  #q1 = STRUCT([T(3)(5.0), q1])\n",
    "  q1 = TEXTURE([glassTexture, TRUE, FALSE, 1, 1, 0, 1, 1])(q1)\n",
    "  q1 = MATERIAL([2.55,2.55,2.55,0.5,  0,1,0,0.5, 0,0,1,0, 0,0,0,0.5, 100])(q1)\n",
    "  if (params[0]-params[2]<1.0) & (params[0]-params[2]>-1.0):\n",
    "    if params[1]<params[3]:\n",
    "      q2 = MKPOL([[[params[0],params[1]-2.0,0.0],[params[2],params[3]+2.0,0.0]],[[1,2]],[1]])\n",
    "      q2 = OFFSET([3.5, 3.5, 40.0])(q2)\n",
    "    else:\n",
    "      q2 = MKPOL([[[params[0],params[1]+2.0,0.0],[params[2],params[3]-2.0,0.0]],[[1,2]],[1]])\n",
    "      q2 = OFFSET([3.5, 3.5, 40.0])(q2)\n",
    "  if (params[1]-params[3]<1.0) & (params[1]-params[3]>-1.0):\n",
    "    if params[0]<params[2]:\n",
    "      q2 = MKPOL([[[params[0]-2.0,params[1],0.0],[params[2]+2.0,params[3],0.0]],[[1,2]],[1]])\n",
    "      q2 = OFFSET([3.5, 3.5, 40.0])(q2)\n",
    "    else:\n",
    "      q2 = MKPOL([[[params[0]+2.0,params[1],0.0],[params[2]-2.0,params[3],0.0]],[[1,2]],[1]])\n",
    "      q2 = OFFSET([3.5, 3.5, 40.0])(q2)\n",
    "  q2 = STRUCT([T(3)(-3.5), q2])\n",
    "  q2 = TEXTURE([doorWindowsTexture, TRUE, FALSE, 1, 1, 0, 1, 1])(q2)\n",
    "  q = DIFFERENCE([q2,q1])\n",
    "  q = TEXTURE([doorWindowsTexture, TRUE, FALSE, 1, 1, 0, 1, 1])(q)\n",
    "  allWindow = STRUCT([q,q1])\n",
    "  allWindow = STRUCT([T(3)(h), allWindow])\n",
    "  return allWindow"
   ]
  },
  {
   "cell_type": "code",
   "execution_count": 15,
   "metadata": {
    "collapsed": true
   },
   "outputs": [],
   "source": [
    "\"\"\"funzione che dati i file lines contenuti nell cartella /params/windows/lines\"\"\"\n",
    "\"\"\"costuisce le finestre della casa su ogni piano\"\"\"\n",
    "\"\"\"utilizza la funzione buildOneWindow(...)\"\"\"\n",
    "def buildAllWindows(l,i,h,s1):\n",
    "  if l <= len(levelWindows)-1:\n",
    "    if i < len(levelWindows[l]):\n",
    "      params = parseLines(l,i,levelWindows)\n",
    "      w = buildOneWindow(params,h)\n",
    "      finalStruct = STRUCT([w, s1])\n",
    "      return buildAllWindows(l,i+1,h,finalStruct)\n",
    "    else:\n",
    "      h = h + 80.0\n",
    "      return buildAllWindows(l+1,0,h,s1)\n",
    "  else:\n",
    "    return s1"
   ]
  },
  {
   "cell_type": "code",
   "execution_count": 16,
   "metadata": {
    "collapsed": true
   },
   "outputs": [],
   "source": [
    "\"\"\"funzione che dati i file lines contenuti nell cartella /params/base/lines\"\"\"\n",
    "\"\"\"costruisce il tetto andando a costruite una travatura di appoggio\"\"\"\n",
    "def buildRoof(i,s1):\n",
    "  params = parseLines(0,i,levelBase)\n",
    "  if i==0:\n",
    "    truss = MKPOL([[[params[0],params[1],0.0],[params[2],params[3],0.0],[(params[2]+params[0])/2,(params[3]+params[1])/2,30.0]],[[1,2,3]],[1]])\n",
    "    roof_frame = MKPOL([[[params[0],params[1]],[(params[2]+params[0])/2-30.0,(params[3]+params[1])/2]],[[1,2]],[1]])\n",
    "    truss = OFFSET([-3.0, 0.0, 0.0])(truss)\n",
    "  else:\n",
    "      truss = MKPOL([[[params[0],params[1],0.0],[params[2],params[3],0.0],[(params[2]+params[0])/2,(params[3]+params[1])/2,30.0]],[[1,2,3]],[1]])\n",
    "      roof_frame = MKPOL([[[params[2],params[3]],[(params[2]+params[0])/2-30.0,(params[3]+params[1])/2]],[[1,2]],[1]])\n",
    "      truss = OFFSET([3.0, 0.0, 0.0])(truss)\n",
    "  truss = TEXTURE([wallTexture, TRUE, FALSE, 1, 1, 0, 2, 1])(truss)\n",
    "  roof_height = levelBase[0][2]\n",
    "  roof_height_split = roof_height.split(\",\")\n",
    "  roof_height_number = np.array(roof_height_split, dtype=float)\n",
    "  roof_height = roof_height_number[2] - roof_height_number[0]\n",
    "  roof = STRUCT([T([1,3])([roof_height_number[0]-8,params[0]-1]),(ROTATE([1,3])(-PI/2)(PROD([roof_frame,Q(roof_height+10)])))])\n",
    "  roof = OFFSET([3.0, 3.0, 3.0])(roof)\n",
    "  roof = TEXTURE([roofTexture, TRUE, FALSE, 1, 1, 0, 2, 1])(roof)\n",
    "  s2 = STRUCT([truss, s1])\n",
    "  s2 = STRUCT([roof, s2])\n",
    "  return s2\n"
   ]
  },
  {
   "cell_type": "code",
   "execution_count": 17,
   "metadata": {
    "collapsed": true
   },
   "outputs": [],
   "source": [
    "\"\"\"funzione che dati i file lines contenuti nell cartella /params/stair/lines\"\"\"\n",
    "\"\"\"crea una nuova base con l'apertura per l'insermento delle scale\"\"\"\n",
    "def buildFloor2(i,base,s1):\n",
    "  if i < len(levelStair[0]):\n",
    "    params = parseLines(0,i,levelStair)\n",
    "    a_pol = POLYLINE([[params[0],params[1]],[params[2],params[3]]])\n",
    "    a_off = OFFSET([4.0, 5.5, 2.0])(a_pol)\n",
    "    s2 = STRUCT([a_off, s1])\n",
    "    return buildFloor2(i+1,base,s2)\n",
    "  else:\n",
    "    s1 = SOLIDIFY(SKEL_2(s1))\n",
    "    s1 = DIFF([base,s1])\n",
    "    s1 = TEXTURE([pavTexture, TRUE, FALSE, 1, 1, 0, 16, 1])(s1)\n",
    "    return s1"
   ]
  },
  {
   "cell_type": "code",
   "execution_count": 18,
   "metadata": {
    "collapsed": true
   },
   "outputs": [],
   "source": [
    "def buildRail(i,z,s1):\n",
    "  if i < 4:\n",
    "    params = parseLines(0,i,levelStair)\n",
    "    a_pol = POLYLINE([[params[0],params[1]],[params[2],params[3]]])\n",
    "    a_off = OFFSET([1.0, 1.0, z])(a_pol)\n",
    "    s2 = STRUCT([a_off, s1])\n",
    "    return buildRail(i+1,z,s2)\n",
    "  else:\n",
    "    s1 = TEXTURE([doorWindowsTexture, TRUE, FALSE, 1, 1, 0, 1, 1])(s1)\n",
    "    return s1"
   ]
  },
  {
   "cell_type": "code",
   "execution_count": 19,
   "metadata": {
    "collapsed": true
   },
   "outputs": [],
   "source": [
    "def rail1(params,z,i,s1):\n",
    "  length = params[3]-params[1]\n",
    "  if i < length:\n",
    "    ct = MKPOL([[[params[0],params[1]],[params[2],params[3]-110.0]],[[1,2]],[1]])\n",
    "    ct = OFFSET([1.0, 1.0, z])(ct)\n",
    "    ct = STRUCT([T(2)(i),ct])\n",
    "    ct = TEXTURE([doorWindowsTexture, TRUE, FALSE, 1, 1, 0, 1, 1])(ct)\n",
    "    s1 = STRUCT([s1, ct])\n",
    "    return rail1(params,z,i+10,s1)\n",
    "  else:\n",
    "    return s1\n",
    "\n",
    "def rail2(params,z,i,s1):\n",
    "  length = params[2]-params[0]\n",
    "  if i < length:\n",
    "    ct = MKPOL([[[params[0],params[1]],[params[2]-60.0,params[3]]],[[1,2]],[1]])\n",
    "    ct = OFFSET([1.0, 1.0, z])(ct)\n",
    "    ct = STRUCT([T(1)(i),ct])\n",
    "    ct = TEXTURE([doorWindowsTexture, TRUE, FALSE, 1, 1, 0, 1, 1])(ct)\n",
    "    s1 = STRUCT([s1, ct])\n",
    "    return rail2(params,z,i+10,s1)\n",
    "  else:\n",
    "    return s1"
   ]
  },
  {
   "cell_type": "code",
   "execution_count": 20,
   "metadata": {
    "collapsed": true
   },
   "outputs": [],
   "source": [
    "\"\"\"funzione che dati i file lines contenuti nell cartella /params/stair/lines\"\"\"\n",
    "\"\"\"crea una ringhiera posizionata al secondo piano della casa all'interno del corridoio\"\"\"\n",
    "def buildAllRailing(i,z,s1):\n",
    "  if i < 4:\n",
    "    params = parseLines(0,i,levelStair)\n",
    "    if i!=3:\n",
    "      c = rail1(params,z,0,s1)\n",
    "    else:\n",
    "      c = rail2(params,z,0,s1)\n",
    "    s1 = STRUCT([s1,c])\n",
    "    return buildAllRailing(i+1,z,s1)\n",
    "  else:\n",
    "    rail = buildRail(1,1.0,initStruct)\n",
    "    r1=STRUCT([T(3)(1.0),rail])\n",
    "    r2=STRUCT([T(3)(22.0),rail])\n",
    "    s1 = STRUCT([r1,s1,r2])\n",
    "    s1=STRUCT([T(2)(5.0),s1])\n",
    "    return s1"
   ]
  },
  {
   "cell_type": "code",
   "execution_count": 21,
   "metadata": {
    "collapsed": true
   },
   "outputs": [],
   "source": [
    "\"\"\"funzione che dati i file lines contenuti nell cartella /params/stair/lines\"\"\"\n",
    "\"\"\"crea una scala che porta dal primo al secondo piano\"\"\"\n",
    "def buildStair(tempLength,tempHeight,s1):\n",
    "  params = parseLines(0,3,levelStair)\n",
    "  params2 = parseLines(0,0,levelStair)\n",
    "  height = 80.0\n",
    "  height_step = 5.44\n",
    "  steps=height/height_step\n",
    "  steps=height/steps\n",
    "  length_step = 13.0\n",
    "  #length = steps*length_step\n",
    "  length = (params2[2]-params2[0])\n",
    "  build = POLYLINE([[params[0],params[1]],[params[2],params[3]]])\n",
    "  buildOffset = OFFSET([5.0, length_step, height_step])(build)\n",
    "  traslation=STRUCT([T([1,2,3])([0.5,tempLength+length_step,tempHeight]),buildOffset])\n",
    "  tempLength=tempLength + length_step/2\n",
    "  tempHeight=tempHeight + height_step\n",
    "  s1=STRUCT([traslation,s1])\n",
    "  if tempHeight < height:\n",
    "    return buildStair(tempLength, tempHeight, s1)\n",
    "  else:\n",
    "    s1 = TEXTURE([doorWindowsTexture, TRUE, FALSE, 1, 1, 0, 1, 1])(s1)\n",
    "    s1=STRUCT([traslation,s1])\n",
    "    return s1"
   ]
  },
  {
   "cell_type": "code",
   "execution_count": 26,
   "metadata": {
    "collapsed": true
   },
   "outputs": [],
   "source": [
    "\"\"\"funzione che date le funzioni elencate sopra si occupa\"\"\"\n",
    "\"\"\"della costruzione e assamblaggio di tutta la casa\"\"\"\n",
    "def buildHouse():\n",
    "  floor1_level = buildFloor1(0,initStruct)\n",
    "  floor2_level = buildFloor2(0,floor1_level,initStruct)\n",
    "  external_level = buildExternal(0,0,0.0,initStruct)\n",
    "  internal_level = buildIntenal(0,0,0.0,initStruct)\n",
    "  doors_level = buildAllDoors(0,0,0.0,initStruct)\n",
    "  windows_level = buildAllWindows(0,0,30.0,initStruct)\n",
    "  roof_level_1 = buildRoof(0,initStruct)\n",
    "  roof_level_2 = buildRoof(3,initStruct)\n",
    "  stairs_level = buildStair(0.0,0.0,initStruct)\n",
    "  railing_level = buildAllRailing(0,21.0,initStruct)\n",
    "  house=STRUCT([floor1_level,T(3)(3.0),external_level])\n",
    "  house=STRUCT([house,T(3)(3.5),stairs_level])\n",
    "  house=STRUCT([house,T(3)(83.0),railing_level])\n",
    "  house=STRUCT([house,T(3)(3.5),internal_level])\n",
    "  house=STRUCT([house,T(3)(83.0),floor2_level])\n",
    "  house=STRUCT([house,T(3)(163.0),floor1_level])\n",
    "  house=STRUCT([house,T(3)(3.0),doors_level])\n",
    "  house=STRUCT([house,T(3)(3.0),windows_level])\n",
    "  house=STRUCT([house,T(3)(163.0),roof_level_1])\n",
    "  house=STRUCT([house,T(3)(163.0),roof_level_2])\n",
    "  return house"
   ]
  },
  {
   "cell_type": "code",
   "execution_count": 27,
   "metadata": {
    "collapsed": true
   },
   "outputs": [],
   "source": [
    "\"\"\"funzione per la costruziones di una o piu' case\"\"\"\n",
    "\"\"\"distanziate tra loro\"\"\"\n",
    "def createMoreHouse(i,s1,d):\n",
    "  if i < 1:\n",
    "    print(i)\n",
    "    h1=STRUCT([T([1,2,3])([d,0.0,0.0]),buildHouse()])\n",
    "    s1= STRUCT([h1, s1])\n",
    "    return createMoreHouse(i+1,s1,d+600.0)\n",
    "  else:\n",
    "    VIEW(s1)"
   ]
  },
  {
   "cell_type": "code",
   "execution_count": 30,
   "metadata": {
    "collapsed": false
   },
   "outputs": [
    {
     "name": "stdout",
     "output_type": "stream",
     "text": [
      "0\n"
     ]
    }
   ],
   "source": [
    "createMoreHouse(0,initStruct,0.0)"
   ]
  },
  {
   "cell_type": "code",
   "execution_count": null,
   "metadata": {
    "collapsed": true
   },
   "outputs": [],
   "source": []
  }
 ],
 "metadata": {
  "anaconda-cloud": {},
  "kernelspec": {
   "display_name": "Python [conda root]",
   "language": "python",
   "name": "conda-root-py"
  },
  "language_info": {
   "codemirror_mode": {
    "name": "ipython",
    "version": 2
   },
   "file_extension": ".py",
   "mimetype": "text/x-python",
   "name": "python",
   "nbconvert_exporter": "python",
   "pygments_lexer": "ipython2",
   "version": "2.7.12"
  }
 },
 "nbformat": 4,
 "nbformat_minor": 1
}
